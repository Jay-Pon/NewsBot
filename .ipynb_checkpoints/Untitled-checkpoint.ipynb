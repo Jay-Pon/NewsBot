{
 "cells": [
  {
   "cell_type": "code",
   "execution_count": 4,
   "metadata": {},
   "outputs": [
    {
     "name": "stdout",
     "output_type": "stream",
     "text": [
      "0\n",
      "NOTHING\n"
     ]
    }
   ],
   "source": [
    "from bs4 import BeautifulSoup as bs\n",
    "import requests\n",
    "\n",
    "getInfo()"
   ]
  },
  {
   "cell_type": "code",
   "execution_count": null,
   "metadata": {},
   "outputs": [],
   "source": [
    "def getInfo():\n",
    "    main_page = getPage()\n",
    "    articles = getArticleBox(main_page)\n",
    "    print(len(articles))\n",
    "    try:\n",
    "        h, l = getHeadlines(articles[0])\n",
    "        print(h, l)\n",
    "    except:\n",
    "        print(\"NOTHING\")"
   ]
  },
  {
   "cell_type": "code",
   "execution_count": null,
   "metadata": {},
   "outputs": [],
   "source": [
    "def getArticleBox(main_page):\n",
    "    article_boxes = main_page.find_all('article',limit = 5)\n",
    "    return article_boxes"
   ]
  },
  {
   "cell_type": "code",
   "execution_count": null,
   "metadata": {},
   "outputs": [],
   "source": [
    "def getHeadlines(article_box):\n",
    "    sub_headers = []\n",
    "    links = []\n",
    "    \n",
    "    main_page = getPage()\n",
    "    divs = main_page.find('div', class_='river')\n",
    "    headers = divs.find_all('a', class_='post-block__title__link', limit = 5)\n",
    "    \n",
    "    for header in headers:\n",
    "        sub_headers.append(header.text.strip())\n",
    "        links.append(header.get('href'))\n",
    "\n",
    "    return sub_headers, links\n",
    "        "
   ]
  },
  {
   "cell_type": "code",
   "execution_count": 5,
   "metadata": {},
   "outputs": [],
   "source": [
    "def getPage():\n",
    "    url = 'https://techcrunch.com/'\n",
    "    main_page = bs(requests.get(url).text, 'html.parser')\n",
    "    return main_page"
   ]
  },
  {
   "cell_type": "code",
   "execution_count": 20,
   "metadata": {},
   "outputs": [
    {
     "name": "stdout",
     "output_type": "stream",
     "text": [
      "https://techcrunch.com/2021/01/17/virgin-orbit-reaches-orbit-for-the-first-time/\n",
      "Virgin Orbit reaches orbit for the first time\n",
      "https://techcrunch.com/2021/01/17/githubs-head-of-hr-resigns-in-light-of-termination-of-jewish-employee/\n",
      "GitHub’s head of HR resigns in light of termination of Jewish employee\n",
      "https://techcrunch.com/2021/01/17/capitol-attack-social-media-inauguration-day/\n",
      "Threat of inauguration violence casts a long shadow over social media\n",
      "https://techcrunch.com/2021/01/17/original-content-pretend-its-a-city/\n",
      "Original Content podcast: Martin Scorsese and Fran Lebowitz have a good time in ‘Pretend It’s A City’\n",
      "https://techcrunch.com/2021/01/16/israel-vc-survey/\n",
      "After a record year for Israeli startups, 16 investors tell us what’s next\n"
     ]
    }
   ],
   "source": [
    "main_page = getPage()\n",
    "divs = main_page.find('div', class_='river')\n",
    "headers = divs.find_all('a', class_='post-block__title__link', limit = 5)\n",
    "for header in headers:\n",
    "    print(header.get('href'))\n",
    "    print(header.text.strip())"
   ]
  }
 ],
 "metadata": {
  "kernelspec": {
   "display_name": "Python 3",
   "language": "python",
   "name": "python3"
  },
  "language_info": {
   "codemirror_mode": {
    "name": "ipython",
    "version": 3
   },
   "file_extension": ".py",
   "mimetype": "text/x-python",
   "name": "python",
   "nbconvert_exporter": "python",
   "pygments_lexer": "ipython3",
   "version": "3.8.3"
  }
 },
 "nbformat": 4,
 "nbformat_minor": 4
}
